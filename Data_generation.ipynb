{
  "nbformat": 4,
  "nbformat_minor": 0,
  "metadata": {
    "colab": {
      "provenance": []
    },
    "kernelspec": {
      "name": "python3",
      "display_name": "Python 3"
    },
    "language_info": {
      "name": "python"
    }
  },
  "cells": [
    {
      "cell_type": "code",
      "execution_count": 1,
      "metadata": {
        "colab": {
          "base_uri": "https://localhost:8080/",
          "height": 36
        },
        "id": "DunXi4YIVge6",
        "outputId": "b57d1610-750c-42d5-f831-3632b273c67b"
      },
      "outputs": [
        {
          "output_type": "execute_result",
          "data": {
            "text/plain": [
              "'generated_employee_task_20.xlsx'"
            ],
            "application/vnd.google.colaboratory.intrinsic+json": {
              "type": "string"
            }
          },
          "metadata": {},
          "execution_count": 1
        }
      ],
      "source": [
        "import pandas as pd\n",
        "import random\n",
        "from openpyxl import Workbook\n",
        "\n",
        "# Provided extended skills list from user query\n",
        "extended_skills = [\n",
        "    \"React\", \"React\", \"Support\", \"Testing\", \"Fullstack\", \"React\", \"Testing\", \"ML\", \"Testing\", \"PowerBI\", \"Angular\", \"Microservices\", \"Microservices\", \"Test\", \"Fullstack\", \"Project Management\", \"PowerBI\", \"Java\", \"Microservices\", \"Java  & Python\", \"Java\", \"Testing\", \"Java\", \"Java\", \"Testing\", \"Grafana\", \"Wordpress\", \"Python\", \"Java\", \"BA\", \"Wordpress\", \"PowerBI\", \"Support\", \"React\", \"Fullstack\", \"Project Management\", \"Cloud\", \"NULL\", \"Project Management\", \"PowerBI\", \"UX\", \"React & Angular\", \"Fullstack\", \"Fullstack\", \"Fullstack\", \"Sharepoint\", \"Test\", \"Microservices\", \"Support\", \"Microservices\", \"Support\", \"Fullstack\", \"Testing\", \"Python\", \"React & Angular\", \"Fullstack\", \"Python\", \"PowerBI\", \"Python\", \"Python\", \"Project Management\", \"ChatBot\", \"Microservices\", \"Python\", \"Python\", \"Project Management\", \"Cloud\", \"Microservices\", \"React & Angular\", \"Python\", \"React\", \"ChatBot\", \"Microservices\", \"React\", \"Fullstack\", \"Support\", \"React\", \"React & Angular\", \"React & Angular\", \"Microservices\", \"Sharepoint\", \"PowerBI\", \"React & Angular\", \"Project Management\", \"React & Angular\", \"Spfx\", \"Angular\", \"Camunda\", \"Python\", \"React\", \"Camunda\", \"Python\", \"Microservices\", \"React & Angular\", \"Dev Ops\", \"Microservices\", \"Microservices\", \"Microservices\", \"Cloud\", \"React\", \"React & Angular\", \"Microservices\", \"React & Angular\", \"Python\", \"React & Angular\", \"Microservices\", \"SharePoint\", \"Python\", \"Python\", \"HTML & CSS\", \"Microservices\", \"Camunda\", \"Camunda\", \"Python\", \"React\", \"Gen AI\", \"SharePoint\", \"PowerBI\", \"Python\", \"Cloud\", \"PowerBI\", \"Python\", \"Java\", \"Fullstack\", \"Python\", \"Microservices\", \"Cloud\", \"Angular\", \"SharePoint\", \"UI\", \"Microservices\", \"Microservices\", \"Python\", \"SQL\", \"Manual Testing\", \"Python\", \"React\", \"SQL\", \"ML\", \"Python\", \"SQL\", \"Python\", \"Deployment\", \"SQL\", \"Power BI\", \"UX Designer\", \"Power BI\", \"SQL\", \"Power BI\", \"SQL\", \"Python\", \"PM\", \"Deployment\", \"Python\", \"Power BI\", \"SQL\", \"ReactJS\", \"Python\", \"SQL\", \"Solutions Architect\", \"Python\", \"ML\", \"SQL\", \"SQL\", \"Springboot\", \"Data Structures and Algorithm\", \"Full stack development\", \"Python\", \"Microservices\", \"Database management (MySQL)\", \"Git\", \"Generative AI\", \"Kubernetes\", \"Docker\", \"Angular/React\", \"RAG\", \"SQL\", \"Python\", \"Python\", \"SQL\", \"Python\", \"Python\", \"GPU\", \"Python\", \"ML\", \"Solutions Architect\", \"Python\", \"SQL\", \"Python\", \"Data Science\", \"BIG Data\", \"ML\", \"Gen AI\", \"Python\", \"ReactJS\", \"Spring Boot\", \"Deployment\", \"Springboot\", \"Python\", \"React\", \"SQL\", \"ReactJS\", \"Spring Boot\", \"Python\", \"Python\", \"Automation\", \"ReactJS\", \"ReactJS\", \"Java\", \"SQL\", \"Python, ML\", \"Python, Dialogflow, API Integration\", \"Python, SQL, API Integration, Backend Dev\", \"Python, SQL, Backend Dev\", \"Python, NLP, Data Engineering\", \"Python, Data Engineering, Optimization\", \"Python, SQL, Backend Dev, NLP, RAG\", \"Docker, Backend Development, Solution Design\", \"Python, Git, Backend Dev\", \"Git, Code Review, Backend Dev\", \"SQL, Backend Dev, Data Management\", \"Git, Backend Dev\", \"Camunda, Workflow Automation, DevOps\", \"UX Design, Frontend Development, HTML, CSS\", \"UX Design, Frontend Development, HTML, CSS\", \"UX Design, Frontend Development, HTML, CSS\", \"UX Design, Frontend Development, HTML, CSS\", \"UX Design, Frontend Development, HTML, CSS\", \"UX Design, Frontend Development, HTML, CSS\", \"UX Design, Frontend Development, HTML, CSS\", \"UX Design, Frontend Development, HTML, CSS\", \"UX Design, Frontend Development, HTML, CSS\", \"Camunda, Workflow Automation, DevOps\", \"Camunda, Workflow Automation, DevOps\", \"Camunda, Workflow Automation, DevOps\", \"Camunda, Workflow Automation, DevOps\", \"Camunda, Workflow Automation, DevOps\", \"Camunda, Workflow Automation, DevOps\", \"Camunda, Workflow Automation, DevOps\", \"Camunda, Workflow Automation, DevOps\", \"Camunda, Workflow Automation, DevOps\", \"Python, Milvus, Database Management\", \"Python, API Development, Backend Dev\", \"Python, Jira API, Task Management\", \"Communication, Technical Validation\", \"Python, API Integration, Cloud Services\", \"Testing, UI/UX Design\", \"Testing, UI/UX Design, SDLC\", \"UI/UX Design, Frontend Development\", \"UI/UX Design, Frontend Development\", \"UI/UX Design, Knowledge Transfer\", \"UI/UX Design, Frontend Development\", \"Chatbot Development, NLP, API Integration\", \"Solution Architecture, Backend Development\", \"UI/UX Design, Frontend Development\", \"Project Management, Backend Development\", \"Gen AI, AI/ML, Backend Development\", \"UI/UX Design, Frontend Development\", \"Backend Development, API Development\", \"Backend Development, API Integration\", \"UI/UX Design, Project Management\", \"System Integration, Backend Development\", \"UI/UX Design, Frontend Development\", \"Backend Development, Testing\", \"Testing, Test Automation\", \"UI/UX Design, Frontend Development\", \"UI/UX Design, Frontend Development\", \"UI/UX Design, Frontend Development\", \"UI/UX Design, Backend Development\"\n",
        "]\n",
        "\n",
        "# Clean skills list by removing duplicates and NULLs and splitting combined skills\n",
        "cleaned_skills = set()\n",
        "for skill in extended_skills:\n",
        "    if skill and skill.upper() != \"NULL\":\n",
        "        # Split combined skills by common delimiters\n",
        "        parts = [s.strip() for s in skill.replace('&', ',').replace('/', ',').split(',')]\n",
        "        for part in parts:\n",
        "            if part:\n",
        "                cleaned_skills.add(part)\n",
        "\n",
        "cleaned_skills = list(cleaned_skills)\n",
        "\n",
        "# Generate 200 persons with 1-5 random skills\n",
        "num_persons = 20\n",
        "persons = []\n",
        "for i in range(1, num_persons + 1):\n",
        "    name = f\"Person_{i}\"\n",
        "    num_skills = random.randint(1, 5)\n",
        "    skills = random.sample(cleaned_skills, min(num_skills, len(cleaned_skills)))\n",
        "    for skill in skills:\n",
        "        efficiency = 1\n",
        "        performance = random.randint(3, 5)\n",
        "        persons.append({\"name\": name, \"skills\": skill, \"efficiency\": efficiency, \"performance_rating\": performance})\n",
        "\n",
        "# Generate 500 tasks with random required skills\n",
        "num_tasks = 60\n",
        "tasks = []\n",
        "for i in range(1, num_tasks + 1):\n",
        "    task_name = f\"Task_{i}\"\n",
        "    required_skill = random.choice(cleaned_skills)\n",
        "    duration = random.randint(1, 5)\n",
        "    complexity = random.randint(1, 5)\n",
        "    tasks.append({\"task_name\": task_name, \"required_skills\": required_skill, \"duration\": duration, \"complexity\": complexity})\n",
        "\n",
        "# Create dataframes\n",
        "employee_df = pd.DataFrame(persons)\n",
        "task_df = pd.DataFrame(tasks)\n",
        "\n",
        "# Save to Excel file\n",
        "output_filename = \"generated_employee_task_20.xlsx\"\n",
        "with pd.ExcelWriter(output_filename) as writer:\n",
        "    employee_df.to_excel(writer, sheet_name=\"Employee_table\", index=False)\n",
        "    task_df.to_excel(writer, sheet_name=\"Task_table\", index=False)\n",
        "\n",
        "output_filename"
      ]
    },
    {
      "cell_type": "code",
      "source": [],
      "metadata": {
        "id": "XupA0JgZVmQJ"
      },
      "execution_count": null,
      "outputs": []
    }
  ]
}